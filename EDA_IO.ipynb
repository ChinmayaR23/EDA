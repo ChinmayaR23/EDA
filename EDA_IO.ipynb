{
  "cells": [
    {
      "cell_type": "markdown",
      "metadata": {
        "id": "view-in-github",
        "colab_type": "text"
      },
      "source": [
        "<a href=\"https://colab.research.google.com/github/ChinmayaR23/EDA/blob/main/EDA_IO.ipynb\" target=\"_parent\"><img src=\"https://colab.research.google.com/assets/colab-badge.svg\" alt=\"Open In Colab\"/></a>"
      ]
    },
    {
      "cell_type": "code",
      "execution_count": null,
      "id": "1e33e6c7",
      "metadata": {
        "id": "1e33e6c7",
        "outputId": "053523f2-aa14-4693-97c0-387c360871fd",
        "colab": {
          "base_uri": "https://localhost:8080/",
          "height": 287
        }
      },
      "outputs": [
        {
          "output_type": "execute_result",
          "data": {
            "text/plain": [
              "   RowNumber  CustomerId   Surname  CreditScore Geography  Gender  Age  \\\n",
              "0          1    15634602  Hargrave          619    France  Female   42   \n",
              "1          2    15647311      Hill          608     Spain  Female   41   \n",
              "2          3    15619304      Onio          502    France  Female   42   \n",
              "3          4    15701354      Boni          699    France  Female   39   \n",
              "4          5    15737888  Mitchell          850     Spain  Female   43   \n",
              "\n",
              "   Tenure    Balance  NumOfProducts  HasCrCard  IsActiveMember  \\\n",
              "0       2       0.00              1          1               1   \n",
              "1       1   83807.86              1          0               1   \n",
              "2       8  159660.80              3          1               0   \n",
              "3       1       0.00              2          0               0   \n",
              "4       2  125510.82              1          1               1   \n",
              "\n",
              "   EstimatedSalary  Exited  Unnamed: 14  Unnamed: 15  \n",
              "0        101348.88       1          NaN          NaN  \n",
              "1        112542.58       0          NaN          NaN  \n",
              "2        113931.57       1          NaN          NaN  \n",
              "3         93826.63       0          NaN          NaN  \n",
              "4         79084.10       0          NaN          NaN  "
            ],
            "text/html": [
              "\n",
              "  <div id=\"df-2acdfa9f-7060-4864-bc95-70310f92858e\">\n",
              "    <div class=\"colab-df-container\">\n",
              "      <div>\n",
              "<style scoped>\n",
              "    .dataframe tbody tr th:only-of-type {\n",
              "        vertical-align: middle;\n",
              "    }\n",
              "\n",
              "    .dataframe tbody tr th {\n",
              "        vertical-align: top;\n",
              "    }\n",
              "\n",
              "    .dataframe thead th {\n",
              "        text-align: right;\n",
              "    }\n",
              "</style>\n",
              "<table border=\"1\" class=\"dataframe\">\n",
              "  <thead>\n",
              "    <tr style=\"text-align: right;\">\n",
              "      <th></th>\n",
              "      <th>RowNumber</th>\n",
              "      <th>CustomerId</th>\n",
              "      <th>Surname</th>\n",
              "      <th>CreditScore</th>\n",
              "      <th>Geography</th>\n",
              "      <th>Gender</th>\n",
              "      <th>Age</th>\n",
              "      <th>Tenure</th>\n",
              "      <th>Balance</th>\n",
              "      <th>NumOfProducts</th>\n",
              "      <th>HasCrCard</th>\n",
              "      <th>IsActiveMember</th>\n",
              "      <th>EstimatedSalary</th>\n",
              "      <th>Exited</th>\n",
              "      <th>Unnamed: 14</th>\n",
              "      <th>Unnamed: 15</th>\n",
              "    </tr>\n",
              "  </thead>\n",
              "  <tbody>\n",
              "    <tr>\n",
              "      <th>0</th>\n",
              "      <td>1</td>\n",
              "      <td>15634602</td>\n",
              "      <td>Hargrave</td>\n",
              "      <td>619</td>\n",
              "      <td>France</td>\n",
              "      <td>Female</td>\n",
              "      <td>42</td>\n",
              "      <td>2</td>\n",
              "      <td>0.00</td>\n",
              "      <td>1</td>\n",
              "      <td>1</td>\n",
              "      <td>1</td>\n",
              "      <td>101348.88</td>\n",
              "      <td>1</td>\n",
              "      <td>NaN</td>\n",
              "      <td>NaN</td>\n",
              "    </tr>\n",
              "    <tr>\n",
              "      <th>1</th>\n",
              "      <td>2</td>\n",
              "      <td>15647311</td>\n",
              "      <td>Hill</td>\n",
              "      <td>608</td>\n",
              "      <td>Spain</td>\n",
              "      <td>Female</td>\n",
              "      <td>41</td>\n",
              "      <td>1</td>\n",
              "      <td>83807.86</td>\n",
              "      <td>1</td>\n",
              "      <td>0</td>\n",
              "      <td>1</td>\n",
              "      <td>112542.58</td>\n",
              "      <td>0</td>\n",
              "      <td>NaN</td>\n",
              "      <td>NaN</td>\n",
              "    </tr>\n",
              "    <tr>\n",
              "      <th>2</th>\n",
              "      <td>3</td>\n",
              "      <td>15619304</td>\n",
              "      <td>Onio</td>\n",
              "      <td>502</td>\n",
              "      <td>France</td>\n",
              "      <td>Female</td>\n",
              "      <td>42</td>\n",
              "      <td>8</td>\n",
              "      <td>159660.80</td>\n",
              "      <td>3</td>\n",
              "      <td>1</td>\n",
              "      <td>0</td>\n",
              "      <td>113931.57</td>\n",
              "      <td>1</td>\n",
              "      <td>NaN</td>\n",
              "      <td>NaN</td>\n",
              "    </tr>\n",
              "    <tr>\n",
              "      <th>3</th>\n",
              "      <td>4</td>\n",
              "      <td>15701354</td>\n",
              "      <td>Boni</td>\n",
              "      <td>699</td>\n",
              "      <td>France</td>\n",
              "      <td>Female</td>\n",
              "      <td>39</td>\n",
              "      <td>1</td>\n",
              "      <td>0.00</td>\n",
              "      <td>2</td>\n",
              "      <td>0</td>\n",
              "      <td>0</td>\n",
              "      <td>93826.63</td>\n",
              "      <td>0</td>\n",
              "      <td>NaN</td>\n",
              "      <td>NaN</td>\n",
              "    </tr>\n",
              "    <tr>\n",
              "      <th>4</th>\n",
              "      <td>5</td>\n",
              "      <td>15737888</td>\n",
              "      <td>Mitchell</td>\n",
              "      <td>850</td>\n",
              "      <td>Spain</td>\n",
              "      <td>Female</td>\n",
              "      <td>43</td>\n",
              "      <td>2</td>\n",
              "      <td>125510.82</td>\n",
              "      <td>1</td>\n",
              "      <td>1</td>\n",
              "      <td>1</td>\n",
              "      <td>79084.10</td>\n",
              "      <td>0</td>\n",
              "      <td>NaN</td>\n",
              "      <td>NaN</td>\n",
              "    </tr>\n",
              "  </tbody>\n",
              "</table>\n",
              "</div>\n",
              "      <button class=\"colab-df-convert\" onclick=\"convertToInteractive('df-2acdfa9f-7060-4864-bc95-70310f92858e')\"\n",
              "              title=\"Convert this dataframe to an interactive table.\"\n",
              "              style=\"display:none;\">\n",
              "        \n",
              "  <svg xmlns=\"http://www.w3.org/2000/svg\" height=\"24px\"viewBox=\"0 0 24 24\"\n",
              "       width=\"24px\">\n",
              "    <path d=\"M0 0h24v24H0V0z\" fill=\"none\"/>\n",
              "    <path d=\"M18.56 5.44l.94 2.06.94-2.06 2.06-.94-2.06-.94-.94-2.06-.94 2.06-2.06.94zm-11 1L8.5 8.5l.94-2.06 2.06-.94-2.06-.94L8.5 2.5l-.94 2.06-2.06.94zm10 10l.94 2.06.94-2.06 2.06-.94-2.06-.94-.94-2.06-.94 2.06-2.06.94z\"/><path d=\"M17.41 7.96l-1.37-1.37c-.4-.4-.92-.59-1.43-.59-.52 0-1.04.2-1.43.59L10.3 9.45l-7.72 7.72c-.78.78-.78 2.05 0 2.83L4 21.41c.39.39.9.59 1.41.59.51 0 1.02-.2 1.41-.59l7.78-7.78 2.81-2.81c.8-.78.8-2.07 0-2.86zM5.41 20L4 18.59l7.72-7.72 1.47 1.35L5.41 20z\"/>\n",
              "  </svg>\n",
              "      </button>\n",
              "      \n",
              "  <style>\n",
              "    .colab-df-container {\n",
              "      display:flex;\n",
              "      flex-wrap:wrap;\n",
              "      gap: 12px;\n",
              "    }\n",
              "\n",
              "    .colab-df-convert {\n",
              "      background-color: #E8F0FE;\n",
              "      border: none;\n",
              "      border-radius: 50%;\n",
              "      cursor: pointer;\n",
              "      display: none;\n",
              "      fill: #1967D2;\n",
              "      height: 32px;\n",
              "      padding: 0 0 0 0;\n",
              "      width: 32px;\n",
              "    }\n",
              "\n",
              "    .colab-df-convert:hover {\n",
              "      background-color: #E2EBFA;\n",
              "      box-shadow: 0px 1px 2px rgba(60, 64, 67, 0.3), 0px 1px 3px 1px rgba(60, 64, 67, 0.15);\n",
              "      fill: #174EA6;\n",
              "    }\n",
              "\n",
              "    [theme=dark] .colab-df-convert {\n",
              "      background-color: #3B4455;\n",
              "      fill: #D2E3FC;\n",
              "    }\n",
              "\n",
              "    [theme=dark] .colab-df-convert:hover {\n",
              "      background-color: #434B5C;\n",
              "      box-shadow: 0px 1px 3px 1px rgba(0, 0, 0, 0.15);\n",
              "      filter: drop-shadow(0px 1px 2px rgba(0, 0, 0, 0.3));\n",
              "      fill: #FFFFFF;\n",
              "    }\n",
              "  </style>\n",
              "\n",
              "      <script>\n",
              "        const buttonEl =\n",
              "          document.querySelector('#df-2acdfa9f-7060-4864-bc95-70310f92858e button.colab-df-convert');\n",
              "        buttonEl.style.display =\n",
              "          google.colab.kernel.accessAllowed ? 'block' : 'none';\n",
              "\n",
              "        async function convertToInteractive(key) {\n",
              "          const element = document.querySelector('#df-2acdfa9f-7060-4864-bc95-70310f92858e');\n",
              "          const dataTable =\n",
              "            await google.colab.kernel.invokeFunction('convertToInteractive',\n",
              "                                                     [key], {});\n",
              "          if (!dataTable) return;\n",
              "\n",
              "          const docLinkHtml = 'Like what you see? Visit the ' +\n",
              "            '<a target=\"_blank\" href=https://colab.research.google.com/notebooks/data_table.ipynb>data table notebook</a>'\n",
              "            + ' to learn more about interactive tables.';\n",
              "          element.innerHTML = '';\n",
              "          dataTable['output_type'] = 'display_data';\n",
              "          await google.colab.output.renderOutput(dataTable, element);\n",
              "          const docLink = document.createElement('div');\n",
              "          docLink.innerHTML = docLinkHtml;\n",
              "          element.appendChild(docLink);\n",
              "        }\n",
              "      </script>\n",
              "    </div>\n",
              "  </div>\n",
              "  "
            ]
          },
          "metadata": {},
          "execution_count": 16
        }
      ],
      "source": [
        "import pandas as pd \n",
        "import seaborn as sns \n",
        "import numpy as np\n",
        "import matplotlib.pyplot as plt\n",
        "import math \n",
        "import scipy \n",
        "from scipy import stats \n",
        "import seaborn as sns \n",
        "from scipy.stats import chi2_contingency\n",
        "\n",
        "data = pd.read_csv(\"Customer_Modelling_Dataset.csv\")\n",
        "data.head()"
      ]
    },
    {
      "cell_type": "code",
      "execution_count": null,
      "id": "4fbfcebb",
      "metadata": {
        "id": "4fbfcebb",
        "outputId": "1aad96e8-11b0-43d2-be9b-6e76b435fb56"
      },
      "outputs": [
        {
          "data": {
            "text/html": [
              "<div>\n",
              "<style scoped>\n",
              "    .dataframe tbody tr th:only-of-type {\n",
              "        vertical-align: middle;\n",
              "    }\n",
              "\n",
              "    .dataframe tbody tr th {\n",
              "        vertical-align: top;\n",
              "    }\n",
              "\n",
              "    .dataframe thead th {\n",
              "        text-align: right;\n",
              "    }\n",
              "</style>\n",
              "<table border=\"1\" class=\"dataframe\">\n",
              "  <thead>\n",
              "    <tr style=\"text-align: right;\">\n",
              "      <th></th>\n",
              "      <th>RowNumber</th>\n",
              "      <th>CustomerId</th>\n",
              "      <th>CreditScore</th>\n",
              "      <th>Age</th>\n",
              "      <th>Tenure</th>\n",
              "      <th>Balance</th>\n",
              "      <th>NumOfProducts</th>\n",
              "      <th>HasCrCard</th>\n",
              "      <th>IsActiveMember</th>\n",
              "      <th>EstimatedSalary</th>\n",
              "      <th>Exited</th>\n",
              "      <th>Unnamed: 14</th>\n",
              "      <th>Unnamed: 15</th>\n",
              "    </tr>\n",
              "  </thead>\n",
              "  <tbody>\n",
              "    <tr>\n",
              "      <th>count</th>\n",
              "      <td>10000.00000</td>\n",
              "      <td>1.000000e+04</td>\n",
              "      <td>10000.000000</td>\n",
              "      <td>10000.000000</td>\n",
              "      <td>10000.000000</td>\n",
              "      <td>10000.000000</td>\n",
              "      <td>10000.000000</td>\n",
              "      <td>10000.00000</td>\n",
              "      <td>10000.000000</td>\n",
              "      <td>10000.000000</td>\n",
              "      <td>10000.000000</td>\n",
              "      <td>0.0</td>\n",
              "      <td>1.0</td>\n",
              "    </tr>\n",
              "    <tr>\n",
              "      <th>mean</th>\n",
              "      <td>5000.50000</td>\n",
              "      <td>1.569094e+07</td>\n",
              "      <td>650.528800</td>\n",
              "      <td>38.921800</td>\n",
              "      <td>5.012800</td>\n",
              "      <td>76485.889288</td>\n",
              "      <td>1.530200</td>\n",
              "      <td>0.70550</td>\n",
              "      <td>0.515100</td>\n",
              "      <td>100090.239881</td>\n",
              "      <td>0.203700</td>\n",
              "      <td>NaN</td>\n",
              "      <td>850.0</td>\n",
              "    </tr>\n",
              "    <tr>\n",
              "      <th>std</th>\n",
              "      <td>2886.89568</td>\n",
              "      <td>7.193619e+04</td>\n",
              "      <td>96.653299</td>\n",
              "      <td>10.487806</td>\n",
              "      <td>2.892174</td>\n",
              "      <td>62397.405202</td>\n",
              "      <td>0.581654</td>\n",
              "      <td>0.45584</td>\n",
              "      <td>0.499797</td>\n",
              "      <td>57510.492818</td>\n",
              "      <td>0.402769</td>\n",
              "      <td>NaN</td>\n",
              "      <td>NaN</td>\n",
              "    </tr>\n",
              "    <tr>\n",
              "      <th>min</th>\n",
              "      <td>1.00000</td>\n",
              "      <td>1.556570e+07</td>\n",
              "      <td>350.000000</td>\n",
              "      <td>18.000000</td>\n",
              "      <td>0.000000</td>\n",
              "      <td>0.000000</td>\n",
              "      <td>1.000000</td>\n",
              "      <td>0.00000</td>\n",
              "      <td>0.000000</td>\n",
              "      <td>11.580000</td>\n",
              "      <td>0.000000</td>\n",
              "      <td>NaN</td>\n",
              "      <td>850.0</td>\n",
              "    </tr>\n",
              "    <tr>\n",
              "      <th>25%</th>\n",
              "      <td>2500.75000</td>\n",
              "      <td>1.562853e+07</td>\n",
              "      <td>584.000000</td>\n",
              "      <td>32.000000</td>\n",
              "      <td>3.000000</td>\n",
              "      <td>0.000000</td>\n",
              "      <td>1.000000</td>\n",
              "      <td>0.00000</td>\n",
              "      <td>0.000000</td>\n",
              "      <td>51002.110000</td>\n",
              "      <td>0.000000</td>\n",
              "      <td>NaN</td>\n",
              "      <td>850.0</td>\n",
              "    </tr>\n",
              "    <tr>\n",
              "      <th>50%</th>\n",
              "      <td>5000.50000</td>\n",
              "      <td>1.569074e+07</td>\n",
              "      <td>652.000000</td>\n",
              "      <td>37.000000</td>\n",
              "      <td>5.000000</td>\n",
              "      <td>97198.540000</td>\n",
              "      <td>1.000000</td>\n",
              "      <td>1.00000</td>\n",
              "      <td>1.000000</td>\n",
              "      <td>100193.915000</td>\n",
              "      <td>0.000000</td>\n",
              "      <td>NaN</td>\n",
              "      <td>850.0</td>\n",
              "    </tr>\n",
              "    <tr>\n",
              "      <th>75%</th>\n",
              "      <td>7500.25000</td>\n",
              "      <td>1.575323e+07</td>\n",
              "      <td>718.000000</td>\n",
              "      <td>44.000000</td>\n",
              "      <td>7.000000</td>\n",
              "      <td>127644.240000</td>\n",
              "      <td>2.000000</td>\n",
              "      <td>1.00000</td>\n",
              "      <td>1.000000</td>\n",
              "      <td>149388.247500</td>\n",
              "      <td>0.000000</td>\n",
              "      <td>NaN</td>\n",
              "      <td>850.0</td>\n",
              "    </tr>\n",
              "    <tr>\n",
              "      <th>max</th>\n",
              "      <td>10000.00000</td>\n",
              "      <td>1.581569e+07</td>\n",
              "      <td>850.000000</td>\n",
              "      <td>92.000000</td>\n",
              "      <td>10.000000</td>\n",
              "      <td>250898.090000</td>\n",
              "      <td>4.000000</td>\n",
              "      <td>1.00000</td>\n",
              "      <td>1.000000</td>\n",
              "      <td>199992.480000</td>\n",
              "      <td>1.000000</td>\n",
              "      <td>NaN</td>\n",
              "      <td>850.0</td>\n",
              "    </tr>\n",
              "  </tbody>\n",
              "</table>\n",
              "</div>"
            ],
            "text/plain": [
              "         RowNumber    CustomerId   CreditScore           Age        Tenure  \\\n",
              "count  10000.00000  1.000000e+04  10000.000000  10000.000000  10000.000000   \n",
              "mean    5000.50000  1.569094e+07    650.528800     38.921800      5.012800   \n",
              "std     2886.89568  7.193619e+04     96.653299     10.487806      2.892174   \n",
              "min        1.00000  1.556570e+07    350.000000     18.000000      0.000000   \n",
              "25%     2500.75000  1.562853e+07    584.000000     32.000000      3.000000   \n",
              "50%     5000.50000  1.569074e+07    652.000000     37.000000      5.000000   \n",
              "75%     7500.25000  1.575323e+07    718.000000     44.000000      7.000000   \n",
              "max    10000.00000  1.581569e+07    850.000000     92.000000     10.000000   \n",
              "\n",
              "             Balance  NumOfProducts    HasCrCard  IsActiveMember  \\\n",
              "count   10000.000000   10000.000000  10000.00000    10000.000000   \n",
              "mean    76485.889288       1.530200      0.70550        0.515100   \n",
              "std     62397.405202       0.581654      0.45584        0.499797   \n",
              "min         0.000000       1.000000      0.00000        0.000000   \n",
              "25%         0.000000       1.000000      0.00000        0.000000   \n",
              "50%     97198.540000       1.000000      1.00000        1.000000   \n",
              "75%    127644.240000       2.000000      1.00000        1.000000   \n",
              "max    250898.090000       4.000000      1.00000        1.000000   \n",
              "\n",
              "       EstimatedSalary        Exited  Unnamed: 14  Unnamed: 15  \n",
              "count     10000.000000  10000.000000          0.0          1.0  \n",
              "mean     100090.239881      0.203700          NaN        850.0  \n",
              "std       57510.492818      0.402769          NaN          NaN  \n",
              "min          11.580000      0.000000          NaN        850.0  \n",
              "25%       51002.110000      0.000000          NaN        850.0  \n",
              "50%      100193.915000      0.000000          NaN        850.0  \n",
              "75%      149388.247500      0.000000          NaN        850.0  \n",
              "max      199992.480000      1.000000          NaN        850.0  "
            ]
          },
          "execution_count": 2,
          "metadata": {},
          "output_type": "execute_result"
        }
      ],
      "source": [
        "data.describe()"
      ]
    },
    {
      "cell_type": "code",
      "execution_count": null,
      "id": "502f5790",
      "metadata": {
        "id": "502f5790",
        "outputId": "a5c901ef-2936-4aa8-9e9c-4ae29cc3785c"
      },
      "outputs": [
        {
          "data": {
            "text/plain": [
              "(10000, 16)"
            ]
          },
          "execution_count": 3,
          "metadata": {},
          "output_type": "execute_result"
        }
      ],
      "source": [
        "data.shape"
      ]
    },
    {
      "cell_type": "code",
      "execution_count": null,
      "id": "23f49799",
      "metadata": {
        "id": "23f49799",
        "outputId": "b5ab4e13-63c5-428b-edb4-5106ab7928fe"
      },
      "outputs": [
        {
          "name": "stdout",
          "output_type": "stream",
          "text": [
            "Mean Age:  38.9218\n",
            "Mode Age:  0    37\n",
            "Name: Age, dtype: int64\n",
            "Median Age:  37.0\n",
            "Min Age:  18\n",
            "Max Age:  92\n",
            "Standard deviation Age:  10.487806451704591\n"
          ]
        }
      ],
      "source": [
        "# 1) Age\n",
        "print(\"Mean Age: \", data['Age'].mean())\n",
        "print(\"Mode Age: \", data['Age'].mode())\n",
        "print(\"Median Age: \", data['Age'].median())\n",
        "print(\"Min Age: \", data['Age'].min())\n",
        "print(\"Max Age: \", data['Age'].max())\n",
        "print(\"Standard deviation Age: \", data['Age'].std())"
      ]
    },
    {
      "cell_type": "code",
      "execution_count": null,
      "id": "bdc2c63e",
      "metadata": {
        "id": "bdc2c63e",
        "outputId": "9a52b13b-4d16-484b-d4fb-0320f4970feb"
      },
      "outputs": [
        {
          "name": "stdout",
          "output_type": "stream",
          "text": [
            "Mean Tenure:  5.0128\n",
            "Mode Tenure:  0    2\n",
            "Name: Tenure, dtype: int64\n",
            "Median Tenure:  5.0\n",
            "Min Tenure:  0\n",
            "Max Tenure:  10\n",
            "Standard deviation Tenure:  2.892174377049708\n"
          ]
        }
      ],
      "source": [
        "print(\"Mean Tenure: \", data['Tenure'].mean())\n",
        "print(\"Mode Tenure: \", data['Tenure'].mode())\n",
        "print(\"Median Tenure: \", data['Tenure'].median())\n",
        "print(\"Min Tenure: \", data['Tenure'].min())\n",
        "print(\"Max Tenure: \", data['Tenure'].max())\n",
        "print(\"Standard deviation Tenure: \", data['Tenure'].std())"
      ]
    },
    {
      "cell_type": "code",
      "execution_count": null,
      "id": "c384bf14",
      "metadata": {
        "id": "c384bf14",
        "outputId": "23185227-31c5-4930-a4ee-c9bb912dc0b1"
      },
      "outputs": [
        {
          "name": "stdout",
          "output_type": "stream",
          "text": [
            "Mean EstimatedSalary: 100090.2398809998\n",
            "Mode EstimatedSalary: 0    24924.92\n",
            "Name: EstimatedSalary, dtype: float64\n",
            "Median EstimatedSalary: 100193.915\n",
            "Min EstimatedSalary: 11.58\n",
            "Max EstimatedSalary: 199992.48\n",
            "Standard deviation EstimatedSalary:  57510.49281769822\n"
          ]
        }
      ],
      "source": [
        "# 3) Estimated Salary\n",
        "print(\"Mean EstimatedSalary:\", data['EstimatedSalary'].mean())\n",
        "print(\"Mode EstimatedSalary:\", data['EstimatedSalary'].mode())\n",
        "print(\"Median EstimatedSalary:\", data['EstimatedSalary'].median())\n",
        "print(\"Min EstimatedSalary:\", data['EstimatedSalary'].min())\n",
        "print(\"Max EstimatedSalary:\", data['EstimatedSalary'].max())\n",
        "print(\"Standard deviation EstimatedSalary: \", data['EstimatedSalary'].std())"
      ]
    },
    {
      "cell_type": "code",
      "execution_count": null,
      "id": "2c9589a4",
      "metadata": {
        "id": "2c9589a4",
        "outputId": "c7c7e074-36bf-4317-b55e-9bc45244d42a"
      },
      "outputs": [
        {
          "name": "stdout",
          "output_type": "stream",
          "text": [
            "Mean : CreditScore 650.5288\n",
            "Mode CreditScore:  0    850\n",
            "Name: CreditScore, dtype: int64\n",
            "Median CreditScore:  652.0\n",
            "Min CreditScore:  350\n",
            "Max CreditScore:  850\n",
            "Standard deviation CreditScore:  96.65329873613061\n"
          ]
        }
      ],
      "source": [
        "# 4) Credit Score\n",
        "print(\"Mean : CreditScore\", data['CreditScore'].mean())\n",
        "print(\"Mode CreditScore: \", data['CreditScore'].mode())\n",
        "print(\"Median CreditScore: \", data['CreditScore'].median())\n",
        "print(\"Min CreditScore: \", data['CreditScore'].min())\n",
        "print(\"Max CreditScore: \", data['CreditScore'].max())\n",
        "print(\"Standard deviation CreditScore: \", data['CreditScore'].std())"
      ]
    },
    {
      "cell_type": "code",
      "execution_count": null,
      "id": "97553e4b",
      "metadata": {
        "id": "97553e4b",
        "outputId": "c27789de-87d9-4715-e0ce-04514f285819"
      },
      "outputs": [
        {
          "data": {
            "text/plain": [
              "array([[<AxesSubplot:title={'center':'EstimatedSalary'}>]], dtype=object)"
            ]
          },
          "execution_count": 8,
          "metadata": {},
          "output_type": "execute_result"
        },
        {
          "data": {
            "image/png": "[encoded data removed]",
            "text/plain": [
              "<Figure size 432x288 with 1 Axes>"
            ]
          },
          "metadata": {
            "needs_background": "light"
          },
          "output_type": "display_data"
        }
      ],
      "source": [
        "# Create a histogram for the Estimated Salary\n",
        "data.hist(column = \"EstimatedSalary\")"
      ]
    },
    {
      "cell_type": "code",
      "execution_count": null,
      "id": "6d71b4af",
      "metadata": {
        "id": "6d71b4af",
        "outputId": "bb23ce03-5297-4f75-d909-cdca701062bf",
        "colab": {
          "base_uri": "https://localhost:8080/",
          "height": 283
        }
      },
      "outputs": [
        {
          "output_type": "execute_result",
          "data": {
            "text/plain": [
              "<matplotlib.axes._subplots.AxesSubplot at 0x7fce201dadd0>"
            ]
          },
          "metadata": {},
          "execution_count": 5
        },
        {
          "output_type": "display_data",
          "data": {
            "text/plain": [
              "<Figure size 432x288 with 1 Axes>"
            ],
            "image/png": "[encoded data removed]"
          },
          "metadata": {
            "needs_background": "light"
          }
        }
      ],
      "source": [
        "# Create box-plot for Age \n",
        "\n",
        "sns.boxplot(data = data[\"Age\"])"
      ]
    },
    {
      "cell_type": "code",
      "execution_count": null,
      "id": "c489f093",
      "metadata": {
        "id": "c489f093",
        "outputId": "ed989626-1bf9-45a7-ca51-9a8d3166bb4a"
      },
      "outputs": [
        {
          "data": {
            "text/plain": [
              "<AxesSubplot:>"
            ]
          },
          "execution_count": 10,
          "metadata": {},
          "output_type": "execute_result"
        },
        {
          "data": {
            "image/png": "[encoded data removed]",
            "text/plain": [
              "<Figure size 432x288 with 1 Axes>"
            ]
          },
          "metadata": {
            "needs_background": "light"
          },
          "output_type": "display_data"
        }
      ],
      "source": [
        "# Create bar chart for (i) Geography (ii) Gender \n",
        "data.Geography.value_counts().plot.bar()"
      ]
    },
    {
      "cell_type": "code",
      "execution_count": null,
      "id": "d3576b0b",
      "metadata": {
        "id": "d3576b0b",
        "outputId": "d3522b36-27ab-496e-c9b8-a8bec3c5dacd"
      },
      "outputs": [
        {
          "data": {
            "text/plain": [
              "<AxesSubplot:>"
            ]
          },
          "execution_count": 11,
          "metadata": {},
          "output_type": "execute_result"
        },
        {
          "data": {
            "image/png": "[encoded data removed]",
            "text/plain": [
              "<Figure size 432x288 with 1 Axes>"
            ]
          },
          "metadata": {
            "needs_background": "light"
          },
          "output_type": "display_data"
        }
      ],
      "source": [
        "data.Gender.value_counts().plot.bar()"
      ]
    },
    {
      "cell_type": "code",
      "execution_count": null,
      "id": "2d32456c",
      "metadata": {
        "id": "2d32456c",
        "outputId": "6e323ed4-6900-4b98-f967-e3836b63cebc"
      },
      "outputs": [
        {
          "data": {
            "text/plain": [
              "<seaborn.axisgrid.FacetGrid at 0x7ff717154070>"
            ]
          },
          "execution_count": 16,
          "metadata": {},
          "output_type": "execute_result"
        },
        {
          "data": {
            "image/png": "[encoded data removed]",
            "text/plain": [
              "<Figure size 408.75x360 with 1 Axes>"
            ]
          },
          "metadata": {
            "needs_background": "light"
          },
          "output_type": "display_data"
        }
      ],
      "source": [
        "# Create distribution plot for the estimated salary column with tenure as a factor. \n",
        "\n",
        "sns.displot(data, x = \"EstimatedSalary\", hue = \"Tenure\")"
      ]
    },
    {
      "cell_type": "code",
      "execution_count": null,
      "id": "fe0b360c",
      "metadata": {
        "id": "fe0b360c",
        "outputId": "13e8e903-7bcc-4491-94ce-d63ae298bf4b"
      },
      "outputs": [
        {
          "data": {
            "text/html": [
              "<div>\n",
              "<style scoped>\n",
              "    .dataframe tbody tr th:only-of-type {\n",
              "        vertical-align: middle;\n",
              "    }\n",
              "\n",
              "    .dataframe tbody tr th {\n",
              "        vertical-align: top;\n",
              "    }\n",
              "\n",
              "    .dataframe thead th {\n",
              "        text-align: right;\n",
              "    }\n",
              "</style>\n",
              "<table border=\"1\" class=\"dataframe\">\n",
              "  <thead>\n",
              "    <tr style=\"text-align: right;\">\n",
              "      <th></th>\n",
              "      <th>RowNumber</th>\n",
              "      <th>CustomerId</th>\n",
              "      <th>Surname</th>\n",
              "      <th>CreditScore</th>\n",
              "      <th>Geography</th>\n",
              "      <th>Gender</th>\n",
              "      <th>Age</th>\n",
              "      <th>Tenure</th>\n",
              "      <th>Balance</th>\n",
              "      <th>NumOfProducts</th>\n",
              "      <th>HasCrCard</th>\n",
              "      <th>IsActiveMember</th>\n",
              "      <th>EstimatedSalary</th>\n",
              "      <th>Exited</th>\n",
              "      <th>Unnamed: 14</th>\n",
              "      <th>Unnamed: 15</th>\n",
              "    </tr>\n",
              "  </thead>\n",
              "  <tbody>\n",
              "    <tr>\n",
              "      <th>1173</th>\n",
              "      <td>1174</td>\n",
              "      <td>15808182</td>\n",
              "      <td>Beneventi</td>\n",
              "      <td>478</td>\n",
              "      <td>Spain</td>\n",
              "      <td>Female</td>\n",
              "      <td>36</td>\n",
              "      <td>3</td>\n",
              "      <td>92363.30</td>\n",
              "      <td>2</td>\n",
              "      <td>1</td>\n",
              "      <td>0</td>\n",
              "      <td>44912.70</td>\n",
              "      <td>0</td>\n",
              "      <td>NaN</td>\n",
              "      <td>NaN</td>\n",
              "    </tr>\n",
              "    <tr>\n",
              "      <th>565</th>\n",
              "      <td>566</td>\n",
              "      <td>15811773</td>\n",
              "      <td>Hsia</td>\n",
              "      <td>543</td>\n",
              "      <td>France</td>\n",
              "      <td>Male</td>\n",
              "      <td>36</td>\n",
              "      <td>4</td>\n",
              "      <td>0.00</td>\n",
              "      <td>2</td>\n",
              "      <td>1</td>\n",
              "      <td>1</td>\n",
              "      <td>141210.50</td>\n",
              "      <td>0</td>\n",
              "      <td>NaN</td>\n",
              "      <td>NaN</td>\n",
              "    </tr>\n",
              "    <tr>\n",
              "      <th>4837</th>\n",
              "      <td>4838</td>\n",
              "      <td>15708256</td>\n",
              "      <td>Chien</td>\n",
              "      <td>803</td>\n",
              "      <td>France</td>\n",
              "      <td>Male</td>\n",
              "      <td>28</td>\n",
              "      <td>3</td>\n",
              "      <td>0.00</td>\n",
              "      <td>2</td>\n",
              "      <td>1</td>\n",
              "      <td>0</td>\n",
              "      <td>159654.00</td>\n",
              "      <td>0</td>\n",
              "      <td>NaN</td>\n",
              "      <td>NaN</td>\n",
              "    </tr>\n",
              "    <tr>\n",
              "      <th>7113</th>\n",
              "      <td>7114</td>\n",
              "      <td>15783859</td>\n",
              "      <td>Boni</td>\n",
              "      <td>733</td>\n",
              "      <td>France</td>\n",
              "      <td>Female</td>\n",
              "      <td>24</td>\n",
              "      <td>3</td>\n",
              "      <td>161884.99</td>\n",
              "      <td>1</td>\n",
              "      <td>1</td>\n",
              "      <td>1</td>\n",
              "      <td>9617.24</td>\n",
              "      <td>0</td>\n",
              "      <td>NaN</td>\n",
              "      <td>NaN</td>\n",
              "    </tr>\n",
              "    <tr>\n",
              "      <th>6061</th>\n",
              "      <td>6062</td>\n",
              "      <td>15758023</td>\n",
              "      <td>Grigoryeva</td>\n",
              "      <td>544</td>\n",
              "      <td>Germany</td>\n",
              "      <td>Male</td>\n",
              "      <td>47</td>\n",
              "      <td>5</td>\n",
              "      <td>105245.21</td>\n",
              "      <td>1</td>\n",
              "      <td>0</td>\n",
              "      <td>0</td>\n",
              "      <td>99922.08</td>\n",
              "      <td>1</td>\n",
              "      <td>NaN</td>\n",
              "      <td>NaN</td>\n",
              "    </tr>\n",
              "    <tr>\n",
              "      <th>...</th>\n",
              "      <td>...</td>\n",
              "      <td>...</td>\n",
              "      <td>...</td>\n",
              "      <td>...</td>\n",
              "      <td>...</td>\n",
              "      <td>...</td>\n",
              "      <td>...</td>\n",
              "      <td>...</td>\n",
              "      <td>...</td>\n",
              "      <td>...</td>\n",
              "      <td>...</td>\n",
              "      <td>...</td>\n",
              "      <td>...</td>\n",
              "      <td>...</td>\n",
              "      <td>...</td>\n",
              "      <td>...</td>\n",
              "    </tr>\n",
              "    <tr>\n",
              "      <th>7522</th>\n",
              "      <td>7523</td>\n",
              "      <td>15729718</td>\n",
              "      <td>Stelzer</td>\n",
              "      <td>610</td>\n",
              "      <td>France</td>\n",
              "      <td>Male</td>\n",
              "      <td>41</td>\n",
              "      <td>6</td>\n",
              "      <td>0.00</td>\n",
              "      <td>3</td>\n",
              "      <td>0</td>\n",
              "      <td>0</td>\n",
              "      <td>56118.81</td>\n",
              "      <td>1</td>\n",
              "      <td>NaN</td>\n",
              "      <td>NaN</td>\n",
              "    </tr>\n",
              "    <tr>\n",
              "      <th>5870</th>\n",
              "      <td>5871</td>\n",
              "      <td>15780142</td>\n",
              "      <td>Wang</td>\n",
              "      <td>632</td>\n",
              "      <td>France</td>\n",
              "      <td>Male</td>\n",
              "      <td>43</td>\n",
              "      <td>2</td>\n",
              "      <td>100013.51</td>\n",
              "      <td>1</td>\n",
              "      <td>1</td>\n",
              "      <td>0</td>\n",
              "      <td>24275.32</td>\n",
              "      <td>0</td>\n",
              "      <td>NaN</td>\n",
              "      <td>NaN</td>\n",
              "    </tr>\n",
              "    <tr>\n",
              "      <th>8692</th>\n",
              "      <td>8693</td>\n",
              "      <td>15755138</td>\n",
              "      <td>Chin</td>\n",
              "      <td>850</td>\n",
              "      <td>France</td>\n",
              "      <td>Female</td>\n",
              "      <td>32</td>\n",
              "      <td>8</td>\n",
              "      <td>0.00</td>\n",
              "      <td>2</td>\n",
              "      <td>1</td>\n",
              "      <td>1</td>\n",
              "      <td>55593.80</td>\n",
              "      <td>0</td>\n",
              "      <td>NaN</td>\n",
              "      <td>NaN</td>\n",
              "    </tr>\n",
              "    <tr>\n",
              "      <th>9340</th>\n",
              "      <td>9341</td>\n",
              "      <td>15605804</td>\n",
              "      <td>Watson</td>\n",
              "      <td>737</td>\n",
              "      <td>France</td>\n",
              "      <td>Male</td>\n",
              "      <td>45</td>\n",
              "      <td>10</td>\n",
              "      <td>0.00</td>\n",
              "      <td>2</td>\n",
              "      <td>1</td>\n",
              "      <td>0</td>\n",
              "      <td>1364.54</td>\n",
              "      <td>0</td>\n",
              "      <td>NaN</td>\n",
              "      <td>NaN</td>\n",
              "    </tr>\n",
              "    <tr>\n",
              "      <th>1003</th>\n",
              "      <td>1004</td>\n",
              "      <td>15701301</td>\n",
              "      <td>Murphy</td>\n",
              "      <td>646</td>\n",
              "      <td>France</td>\n",
              "      <td>Female</td>\n",
              "      <td>42</td>\n",
              "      <td>3</td>\n",
              "      <td>175159.90</td>\n",
              "      <td>2</td>\n",
              "      <td>0</td>\n",
              "      <td>0</td>\n",
              "      <td>67124.48</td>\n",
              "      <td>1</td>\n",
              "      <td>NaN</td>\n",
              "      <td>NaN</td>\n",
              "    </tr>\n",
              "  </tbody>\n",
              "</table>\n",
              "<p>100 rows × 16 columns</p>\n",
              "</div>"
            ],
            "text/plain": [
              "      RowNumber  CustomerId     Surname  CreditScore Geography  Gender  Age  \\\n",
              "1173       1174    15808182   Beneventi          478     Spain  Female   36   \n",
              "565         566    15811773        Hsia          543    France    Male   36   \n",
              "4837       4838    15708256       Chien          803    France    Male   28   \n",
              "7113       7114    15783859        Boni          733    France  Female   24   \n",
              "6061       6062    15758023  Grigoryeva          544   Germany    Male   47   \n",
              "...         ...         ...         ...          ...       ...     ...  ...   \n",
              "7522       7523    15729718     Stelzer          610    France    Male   41   \n",
              "5870       5871    15780142        Wang          632    France    Male   43   \n",
              "8692       8693    15755138        Chin          850    France  Female   32   \n",
              "9340       9341    15605804      Watson          737    France    Male   45   \n",
              "1003       1004    15701301      Murphy          646    France  Female   42   \n",
              "\n",
              "      Tenure    Balance  NumOfProducts  HasCrCard  IsActiveMember  \\\n",
              "1173       3   92363.30              2          1               0   \n",
              "565        4       0.00              2          1               1   \n",
              "4837       3       0.00              2          1               0   \n",
              "7113       3  161884.99              1          1               1   \n",
              "6061       5  105245.21              1          0               0   \n",
              "...      ...        ...            ...        ...             ...   \n",
              "7522       6       0.00              3          0               0   \n",
              "5870       2  100013.51              1          1               0   \n",
              "8692       8       0.00              2          1               1   \n",
              "9340      10       0.00              2          1               0   \n",
              "1003       3  175159.90              2          0               0   \n",
              "\n",
              "      EstimatedSalary  Exited  Unnamed: 14  Unnamed: 15  \n",
              "1173         44912.70       0          NaN          NaN  \n",
              "565         141210.50       0          NaN          NaN  \n",
              "4837        159654.00       0          NaN          NaN  \n",
              "7113          9617.24       0          NaN          NaN  \n",
              "6061         99922.08       1          NaN          NaN  \n",
              "...               ...     ...          ...          ...  \n",
              "7522         56118.81       1          NaN          NaN  \n",
              "5870         24275.32       0          NaN          NaN  \n",
              "8692         55593.80       0          NaN          NaN  \n",
              "9340          1364.54       0          NaN          NaN  \n",
              "1003         67124.48       1          NaN          NaN  \n",
              "\n",
              "[100 rows x 16 columns]"
            ]
          },
          "execution_count": 17,
          "metadata": {},
          "output_type": "execute_result"
        }
      ],
      "source": [
        "# Illustrate the 3 sampling with the data frame created from the given dataset.  \n",
        "# 1) Simple Random Sampling\n",
        "data.sample(n = 100)"
      ]
    },
    {
      "cell_type": "code",
      "execution_count": null,
      "id": "2bc57a97",
      "metadata": {
        "id": "2bc57a97",
        "outputId": "b091469c-7ffa-46fc-d084-38333c4ae1fc"
      },
      "outputs": [
        {
          "data": {
            "text/html": [
              "<div>\n",
              "<style scoped>\n",
              "    .dataframe tbody tr th:only-of-type {\n",
              "        vertical-align: middle;\n",
              "    }\n",
              "\n",
              "    .dataframe tbody tr th {\n",
              "        vertical-align: top;\n",
              "    }\n",
              "\n",
              "    .dataframe thead th {\n",
              "        text-align: right;\n",
              "    }\n",
              "</style>\n",
              "<table border=\"1\" class=\"dataframe\">\n",
              "  <thead>\n",
              "    <tr style=\"text-align: right;\">\n",
              "      <th></th>\n",
              "      <th>RowNumber</th>\n",
              "      <th>CustomerId</th>\n",
              "      <th>Surname</th>\n",
              "      <th>CreditScore</th>\n",
              "      <th>Geography</th>\n",
              "      <th>Gender</th>\n",
              "      <th>Age</th>\n",
              "      <th>Tenure</th>\n",
              "      <th>Balance</th>\n",
              "      <th>NumOfProducts</th>\n",
              "      <th>HasCrCard</th>\n",
              "      <th>IsActiveMember</th>\n",
              "      <th>EstimatedSalary</th>\n",
              "      <th>Exited</th>\n",
              "      <th>Unnamed: 14</th>\n",
              "      <th>Unnamed: 15</th>\n",
              "    </tr>\n",
              "  </thead>\n",
              "  <tbody>\n",
              "    <tr>\n",
              "      <th>0</th>\n",
              "      <td>1</td>\n",
              "      <td>15634602</td>\n",
              "      <td>Hargrave</td>\n",
              "      <td>619</td>\n",
              "      <td>France</td>\n",
              "      <td>Female</td>\n",
              "      <td>42</td>\n",
              "      <td>2</td>\n",
              "      <td>0.00</td>\n",
              "      <td>1</td>\n",
              "      <td>1</td>\n",
              "      <td>1</td>\n",
              "      <td>101348.88</td>\n",
              "      <td>1</td>\n",
              "      <td>NaN</td>\n",
              "      <td>NaN</td>\n",
              "    </tr>\n",
              "    <tr>\n",
              "      <th>40</th>\n",
              "      <td>41</td>\n",
              "      <td>15619360</td>\n",
              "      <td>Hsiao</td>\n",
              "      <td>472</td>\n",
              "      <td>Spain</td>\n",
              "      <td>Male</td>\n",
              "      <td>40</td>\n",
              "      <td>4</td>\n",
              "      <td>0.00</td>\n",
              "      <td>1</td>\n",
              "      <td>1</td>\n",
              "      <td>0</td>\n",
              "      <td>70154.22</td>\n",
              "      <td>0</td>\n",
              "      <td>NaN</td>\n",
              "      <td>NaN</td>\n",
              "    </tr>\n",
              "    <tr>\n",
              "      <th>80</th>\n",
              "      <td>81</td>\n",
              "      <td>15706021</td>\n",
              "      <td>Buley</td>\n",
              "      <td>665</td>\n",
              "      <td>France</td>\n",
              "      <td>Female</td>\n",
              "      <td>34</td>\n",
              "      <td>1</td>\n",
              "      <td>96645.54</td>\n",
              "      <td>2</td>\n",
              "      <td>0</td>\n",
              "      <td>0</td>\n",
              "      <td>171413.66</td>\n",
              "      <td>0</td>\n",
              "      <td>NaN</td>\n",
              "      <td>NaN</td>\n",
              "    </tr>\n",
              "    <tr>\n",
              "      <th>120</th>\n",
              "      <td>121</td>\n",
              "      <td>15682472</td>\n",
              "      <td>Culbreth</td>\n",
              "      <td>828</td>\n",
              "      <td>France</td>\n",
              "      <td>Male</td>\n",
              "      <td>34</td>\n",
              "      <td>8</td>\n",
              "      <td>129433.34</td>\n",
              "      <td>2</td>\n",
              "      <td>0</td>\n",
              "      <td>0</td>\n",
              "      <td>38131.77</td>\n",
              "      <td>0</td>\n",
              "      <td>NaN</td>\n",
              "      <td>NaN</td>\n",
              "    </tr>\n",
              "    <tr>\n",
              "      <th>160</th>\n",
              "      <td>161</td>\n",
              "      <td>15692132</td>\n",
              "      <td>Wilkinson</td>\n",
              "      <td>717</td>\n",
              "      <td>Spain</td>\n",
              "      <td>Female</td>\n",
              "      <td>22</td>\n",
              "      <td>6</td>\n",
              "      <td>101060.25</td>\n",
              "      <td>1</td>\n",
              "      <td>0</td>\n",
              "      <td>1</td>\n",
              "      <td>84699.56</td>\n",
              "      <td>0</td>\n",
              "      <td>NaN</td>\n",
              "      <td>NaN</td>\n",
              "    </tr>\n",
              "    <tr>\n",
              "      <th>...</th>\n",
              "      <td>...</td>\n",
              "      <td>...</td>\n",
              "      <td>...</td>\n",
              "      <td>...</td>\n",
              "      <td>...</td>\n",
              "      <td>...</td>\n",
              "      <td>...</td>\n",
              "      <td>...</td>\n",
              "      <td>...</td>\n",
              "      <td>...</td>\n",
              "      <td>...</td>\n",
              "      <td>...</td>\n",
              "      <td>...</td>\n",
              "      <td>...</td>\n",
              "      <td>...</td>\n",
              "      <td>...</td>\n",
              "    </tr>\n",
              "    <tr>\n",
              "      <th>9800</th>\n",
              "      <td>9801</td>\n",
              "      <td>15640507</td>\n",
              "      <td>Li</td>\n",
              "      <td>762</td>\n",
              "      <td>Spain</td>\n",
              "      <td>Female</td>\n",
              "      <td>35</td>\n",
              "      <td>3</td>\n",
              "      <td>119349.69</td>\n",
              "      <td>3</td>\n",
              "      <td>1</td>\n",
              "      <td>1</td>\n",
              "      <td>47114.18</td>\n",
              "      <td>1</td>\n",
              "      <td>NaN</td>\n",
              "      <td>NaN</td>\n",
              "    </tr>\n",
              "    <tr>\n",
              "      <th>9840</th>\n",
              "      <td>9841</td>\n",
              "      <td>15607877</td>\n",
              "      <td>Maclean</td>\n",
              "      <td>576</td>\n",
              "      <td>Spain</td>\n",
              "      <td>Male</td>\n",
              "      <td>26</td>\n",
              "      <td>8</td>\n",
              "      <td>0.00</td>\n",
              "      <td>2</td>\n",
              "      <td>0</td>\n",
              "      <td>1</td>\n",
              "      <td>34101.06</td>\n",
              "      <td>0</td>\n",
              "      <td>NaN</td>\n",
              "      <td>NaN</td>\n",
              "    </tr>\n",
              "    <tr>\n",
              "      <th>9880</th>\n",
              "      <td>9881</td>\n",
              "      <td>15777054</td>\n",
              "      <td>Thorpe</td>\n",
              "      <td>584</td>\n",
              "      <td>Germany</td>\n",
              "      <td>Male</td>\n",
              "      <td>42</td>\n",
              "      <td>3</td>\n",
              "      <td>137479.13</td>\n",
              "      <td>1</td>\n",
              "      <td>1</td>\n",
              "      <td>0</td>\n",
              "      <td>25669.10</td>\n",
              "      <td>0</td>\n",
              "      <td>NaN</td>\n",
              "      <td>NaN</td>\n",
              "    </tr>\n",
              "    <tr>\n",
              "      <th>9920</th>\n",
              "      <td>9921</td>\n",
              "      <td>15673020</td>\n",
              "      <td>Smith</td>\n",
              "      <td>678</td>\n",
              "      <td>France</td>\n",
              "      <td>Female</td>\n",
              "      <td>49</td>\n",
              "      <td>3</td>\n",
              "      <td>204510.94</td>\n",
              "      <td>1</td>\n",
              "      <td>0</td>\n",
              "      <td>1</td>\n",
              "      <td>738.88</td>\n",
              "      <td>1</td>\n",
              "      <td>NaN</td>\n",
              "      <td>NaN</td>\n",
              "    </tr>\n",
              "    <tr>\n",
              "      <th>9960</th>\n",
              "      <td>9961</td>\n",
              "      <td>15681026</td>\n",
              "      <td>Lucciano</td>\n",
              "      <td>795</td>\n",
              "      <td>Germany</td>\n",
              "      <td>Female</td>\n",
              "      <td>33</td>\n",
              "      <td>9</td>\n",
              "      <td>104552.72</td>\n",
              "      <td>1</td>\n",
              "      <td>1</td>\n",
              "      <td>1</td>\n",
              "      <td>120853.83</td>\n",
              "      <td>1</td>\n",
              "      <td>NaN</td>\n",
              "      <td>NaN</td>\n",
              "    </tr>\n",
              "  </tbody>\n",
              "</table>\n",
              "<p>250 rows × 16 columns</p>\n",
              "</div>"
            ],
            "text/plain": [
              "      RowNumber  CustomerId    Surname  CreditScore Geography  Gender  Age  \\\n",
              "0             1    15634602   Hargrave          619    France  Female   42   \n",
              "40           41    15619360      Hsiao          472     Spain    Male   40   \n",
              "80           81    15706021      Buley          665    France  Female   34   \n",
              "120         121    15682472   Culbreth          828    France    Male   34   \n",
              "160         161    15692132  Wilkinson          717     Spain  Female   22   \n",
              "...         ...         ...        ...          ...       ...     ...  ...   \n",
              "9800       9801    15640507         Li          762     Spain  Female   35   \n",
              "9840       9841    15607877    Maclean          576     Spain    Male   26   \n",
              "9880       9881    15777054     Thorpe          584   Germany    Male   42   \n",
              "9920       9921    15673020      Smith          678    France  Female   49   \n",
              "9960       9961    15681026   Lucciano          795   Germany  Female   33   \n",
              "\n",
              "      Tenure    Balance  NumOfProducts  HasCrCard  IsActiveMember  \\\n",
              "0          2       0.00              1          1               1   \n",
              "40         4       0.00              1          1               0   \n",
              "80         1   96645.54              2          0               0   \n",
              "120        8  129433.34              2          0               0   \n",
              "160        6  101060.25              1          0               1   \n",
              "...      ...        ...            ...        ...             ...   \n",
              "9800       3  119349.69              3          1               1   \n",
              "9840       8       0.00              2          0               1   \n",
              "9880       3  137479.13              1          1               0   \n",
              "9920       3  204510.94              1          0               1   \n",
              "9960       9  104552.72              1          1               1   \n",
              "\n",
              "      EstimatedSalary  Exited  Unnamed: 14  Unnamed: 15  \n",
              "0           101348.88       1          NaN          NaN  \n",
              "40           70154.22       0          NaN          NaN  \n",
              "80          171413.66       0          NaN          NaN  \n",
              "120          38131.77       0          NaN          NaN  \n",
              "160          84699.56       0          NaN          NaN  \n",
              "...               ...     ...          ...          ...  \n",
              "9800         47114.18       1          NaN          NaN  \n",
              "9840         34101.06       0          NaN          NaN  \n",
              "9880         25669.10       0          NaN          NaN  \n",
              "9920           738.88       1          NaN          NaN  \n",
              "9960        120853.83       1          NaN          NaN  \n",
              "\n",
              "[250 rows x 16 columns]"
            ]
          },
          "execution_count": 26,
          "metadata": {},
          "output_type": "execute_result"
        }
      ],
      "source": [
        "# 2) Systematic Random Sampling\n",
        "def sys_sampling(data, st):\n",
        "    index = np.arange(0, len(data), step = st)\n",
        "    systematic_sample = data.iloc[index]\n",
        "    return systematic_sample\n",
        "sys_sampling(data, 40)\n"
      ]
    },
    {
      "cell_type": "code",
      "execution_count": null,
      "id": "8056ecb7",
      "metadata": {
        "id": "8056ecb7",
        "outputId": "2197a407-3c39-4aa8-c3d3-98613b6dc8a1"
      },
      "outputs": [
        {
          "data": {
            "text/html": [
              "<div>\n",
              "<style scoped>\n",
              "    .dataframe tbody tr th:only-of-type {\n",
              "        vertical-align: middle;\n",
              "    }\n",
              "\n",
              "    .dataframe tbody tr th {\n",
              "        vertical-align: top;\n",
              "    }\n",
              "\n",
              "    .dataframe thead th {\n",
              "        text-align: right;\n",
              "    }\n",
              "</style>\n",
              "<table border=\"1\" class=\"dataframe\">\n",
              "  <thead>\n",
              "    <tr style=\"text-align: right;\">\n",
              "      <th></th>\n",
              "      <th>RowNumber</th>\n",
              "      <th>CustomerId</th>\n",
              "      <th>Surname</th>\n",
              "      <th>CreditScore</th>\n",
              "      <th>Geography</th>\n",
              "      <th>Gender</th>\n",
              "      <th>Age</th>\n",
              "      <th>Tenure</th>\n",
              "      <th>Balance</th>\n",
              "      <th>NumOfProducts</th>\n",
              "      <th>HasCrCard</th>\n",
              "      <th>IsActiveMember</th>\n",
              "      <th>EstimatedSalary</th>\n",
              "      <th>Exited</th>\n",
              "      <th>Unnamed: 14</th>\n",
              "      <th>Unnamed: 15</th>\n",
              "    </tr>\n",
              "  </thead>\n",
              "  <tbody>\n",
              "    <tr>\n",
              "      <th>7936</th>\n",
              "      <td>7937</td>\n",
              "      <td>15617401</td>\n",
              "      <td>Thomson</td>\n",
              "      <td>468</td>\n",
              "      <td>France</td>\n",
              "      <td>Male</td>\n",
              "      <td>22</td>\n",
              "      <td>2</td>\n",
              "      <td>0.00</td>\n",
              "      <td>2</td>\n",
              "      <td>1</td>\n",
              "      <td>0</td>\n",
              "      <td>28123.99</td>\n",
              "      <td>0</td>\n",
              "      <td>NaN</td>\n",
              "      <td>NaN</td>\n",
              "    </tr>\n",
              "    <tr>\n",
              "      <th>3346</th>\n",
              "      <td>3347</td>\n",
              "      <td>15726747</td>\n",
              "      <td>Donaldson</td>\n",
              "      <td>714</td>\n",
              "      <td>France</td>\n",
              "      <td>Male</td>\n",
              "      <td>63</td>\n",
              "      <td>4</td>\n",
              "      <td>138082.16</td>\n",
              "      <td>1</td>\n",
              "      <td>0</td>\n",
              "      <td>1</td>\n",
              "      <td>166677.54</td>\n",
              "      <td>0</td>\n",
              "      <td>NaN</td>\n",
              "      <td>NaN</td>\n",
              "    </tr>\n",
              "    <tr>\n",
              "      <th>3981</th>\n",
              "      <td>3982</td>\n",
              "      <td>15575676</td>\n",
              "      <td>Chung</td>\n",
              "      <td>638</td>\n",
              "      <td>France</td>\n",
              "      <td>Male</td>\n",
              "      <td>24</td>\n",
              "      <td>1</td>\n",
              "      <td>0.00</td>\n",
              "      <td>2</td>\n",
              "      <td>0</td>\n",
              "      <td>1</td>\n",
              "      <td>162597.15</td>\n",
              "      <td>0</td>\n",
              "      <td>NaN</td>\n",
              "      <td>NaN</td>\n",
              "    </tr>\n",
              "    <tr>\n",
              "      <th>9629</th>\n",
              "      <td>9630</td>\n",
              "      <td>15601977</td>\n",
              "      <td>Burgoyne</td>\n",
              "      <td>497</td>\n",
              "      <td>Spain</td>\n",
              "      <td>Male</td>\n",
              "      <td>44</td>\n",
              "      <td>2</td>\n",
              "      <td>121250.04</td>\n",
              "      <td>1</td>\n",
              "      <td>0</td>\n",
              "      <td>1</td>\n",
              "      <td>79691.40</td>\n",
              "      <td>0</td>\n",
              "      <td>NaN</td>\n",
              "      <td>NaN</td>\n",
              "    </tr>\n",
              "    <tr>\n",
              "      <th>672</th>\n",
              "      <td>673</td>\n",
              "      <td>15721024</td>\n",
              "      <td>Wickens</td>\n",
              "      <td>642</td>\n",
              "      <td>France</td>\n",
              "      <td>Male</td>\n",
              "      <td>26</td>\n",
              "      <td>0</td>\n",
              "      <td>0.00</td>\n",
              "      <td>1</td>\n",
              "      <td>0</td>\n",
              "      <td>0</td>\n",
              "      <td>47472.68</td>\n",
              "      <td>0</td>\n",
              "      <td>NaN</td>\n",
              "      <td>NaN</td>\n",
              "    </tr>\n",
              "    <tr>\n",
              "      <th>...</th>\n",
              "      <td>...</td>\n",
              "      <td>...</td>\n",
              "      <td>...</td>\n",
              "      <td>...</td>\n",
              "      <td>...</td>\n",
              "      <td>...</td>\n",
              "      <td>...</td>\n",
              "      <td>...</td>\n",
              "      <td>...</td>\n",
              "      <td>...</td>\n",
              "      <td>...</td>\n",
              "      <td>...</td>\n",
              "      <td>...</td>\n",
              "      <td>...</td>\n",
              "      <td>...</td>\n",
              "      <td>...</td>\n",
              "    </tr>\n",
              "    <tr>\n",
              "      <th>1798</th>\n",
              "      <td>1799</td>\n",
              "      <td>15610446</td>\n",
              "      <td>Chinedum</td>\n",
              "      <td>714</td>\n",
              "      <td>France</td>\n",
              "      <td>Female</td>\n",
              "      <td>51</td>\n",
              "      <td>4</td>\n",
              "      <td>88308.87</td>\n",
              "      <td>3</td>\n",
              "      <td>0</td>\n",
              "      <td>0</td>\n",
              "      <td>5862.53</td>\n",
              "      <td>1</td>\n",
              "      <td>NaN</td>\n",
              "      <td>NaN</td>\n",
              "    </tr>\n",
              "    <tr>\n",
              "      <th>3471</th>\n",
              "      <td>3472</td>\n",
              "      <td>15743582</td>\n",
              "      <td>T'ang</td>\n",
              "      <td>632</td>\n",
              "      <td>France</td>\n",
              "      <td>Female</td>\n",
              "      <td>27</td>\n",
              "      <td>3</td>\n",
              "      <td>107375.82</td>\n",
              "      <td>1</td>\n",
              "      <td>1</td>\n",
              "      <td>1</td>\n",
              "      <td>62703.38</td>\n",
              "      <td>0</td>\n",
              "      <td>NaN</td>\n",
              "      <td>NaN</td>\n",
              "    </tr>\n",
              "    <tr>\n",
              "      <th>9337</th>\n",
              "      <td>9338</td>\n",
              "      <td>15797751</td>\n",
              "      <td>Pai</td>\n",
              "      <td>466</td>\n",
              "      <td>Germany</td>\n",
              "      <td>Female</td>\n",
              "      <td>47</td>\n",
              "      <td>5</td>\n",
              "      <td>102085.72</td>\n",
              "      <td>1</td>\n",
              "      <td>1</td>\n",
              "      <td>1</td>\n",
              "      <td>183536.24</td>\n",
              "      <td>1</td>\n",
              "      <td>NaN</td>\n",
              "      <td>NaN</td>\n",
              "    </tr>\n",
              "    <tr>\n",
              "      <th>2481</th>\n",
              "      <td>2482</td>\n",
              "      <td>15764105</td>\n",
              "      <td>Milne</td>\n",
              "      <td>475</td>\n",
              "      <td>France</td>\n",
              "      <td>Female</td>\n",
              "      <td>57</td>\n",
              "      <td>1</td>\n",
              "      <td>0.00</td>\n",
              "      <td>2</td>\n",
              "      <td>1</td>\n",
              "      <td>0</td>\n",
              "      <td>89248.99</td>\n",
              "      <td>0</td>\n",
              "      <td>NaN</td>\n",
              "      <td>NaN</td>\n",
              "    </tr>\n",
              "    <tr>\n",
              "      <th>6389</th>\n",
              "      <td>6390</td>\n",
              "      <td>15687607</td>\n",
              "      <td>Chiemenam</td>\n",
              "      <td>605</td>\n",
              "      <td>France</td>\n",
              "      <td>Female</td>\n",
              "      <td>30</td>\n",
              "      <td>9</td>\n",
              "      <td>135422.31</td>\n",
              "      <td>1</td>\n",
              "      <td>0</td>\n",
              "      <td>1</td>\n",
              "      <td>186418.85</td>\n",
              "      <td>0</td>\n",
              "      <td>NaN</td>\n",
              "      <td>NaN</td>\n",
              "    </tr>\n",
              "  </tbody>\n",
              "</table>\n",
              "<p>99 rows × 16 columns</p>\n",
              "</div>"
            ],
            "text/plain": [
              "      RowNumber  CustomerId    Surname  CreditScore Geography  Gender  Age  \\\n",
              "7936       7937    15617401    Thomson          468    France    Male   22   \n",
              "3346       3347    15726747  Donaldson          714    France    Male   63   \n",
              "3981       3982    15575676      Chung          638    France    Male   24   \n",
              "9629       9630    15601977   Burgoyne          497     Spain    Male   44   \n",
              "672         673    15721024    Wickens          642    France    Male   26   \n",
              "...         ...         ...        ...          ...       ...     ...  ...   \n",
              "1798       1799    15610446   Chinedum          714    France  Female   51   \n",
              "3471       3472    15743582      T'ang          632    France  Female   27   \n",
              "9337       9338    15797751        Pai          466   Germany  Female   47   \n",
              "2481       2482    15764105      Milne          475    France  Female   57   \n",
              "6389       6390    15687607  Chiemenam          605    France  Female   30   \n",
              "\n",
              "      Tenure    Balance  NumOfProducts  HasCrCard  IsActiveMember  \\\n",
              "7936       2       0.00              2          1               0   \n",
              "3346       4  138082.16              1          0               1   \n",
              "3981       1       0.00              2          0               1   \n",
              "9629       2  121250.04              1          0               1   \n",
              "672        0       0.00              1          0               0   \n",
              "...      ...        ...            ...        ...             ...   \n",
              "1798       4   88308.87              3          0               0   \n",
              "3471       3  107375.82              1          1               1   \n",
              "9337       5  102085.72              1          1               1   \n",
              "2481       1       0.00              2          1               0   \n",
              "6389       9  135422.31              1          0               1   \n",
              "\n",
              "      EstimatedSalary  Exited  Unnamed: 14  Unnamed: 15  \n",
              "7936         28123.99       0          NaN          NaN  \n",
              "3346        166677.54       0          NaN          NaN  \n",
              "3981        162597.15       0          NaN          NaN  \n",
              "9629         79691.40       0          NaN          NaN  \n",
              "672          47472.68       0          NaN          NaN  \n",
              "...               ...     ...          ...          ...  \n",
              "1798          5862.53       1          NaN          NaN  \n",
              "3471         62703.38       0          NaN          NaN  \n",
              "9337        183536.24       1          NaN          NaN  \n",
              "2481         89248.99       0          NaN          NaN  \n",
              "6389        186418.85       0          NaN          NaN  \n",
              "\n",
              "[99 rows x 16 columns]"
            ]
          },
          "execution_count": 27,
          "metadata": {},
          "output_type": "execute_result"
        }
      ],
      "source": [
        "# 3) Startified Random Sampling\n",
        "\n",
        "male_data = data[data['Gender'] == 'Male']\n",
        "female_data = data[data['Gender'] == 'Female']\n",
        "simple_male = male_data.sample(n = int((male_data.shape[0]/data.shape[0])*100))\n",
        "simple_female = female_data.sample(n = int((female_data.shape[0]/data.shape[0])*100))\n",
        "pd.concat([simple_male, simple_female])"
      ]
    },
    {
      "cell_type": "code",
      "execution_count": null,
      "id": "7749d1c2",
      "metadata": {
        "id": "7749d1c2",
        "colab": {
          "base_uri": "https://localhost:8080/"
        },
        "outputId": "474a7ff7-33ce-4e0f-ed34-adfc0e21b0ac"
      },
      "outputs": [
        {
          "output_type": "stream",
          "name": "stdout",
          "text": [
            "France probability:  0.5014\n",
            "Spain probability:  0.2477\n",
            "Germany probability:  0.2509\n"
          ]
        }
      ],
      "source": [
        "\n",
        "\n",
        "france = data[data[\"Geography\"] == \"France\"]\n",
        "spain = data[data[\"Geography\"] == \"Spain\"]\n",
        "germany = data[data[\"Geography\"] == \"Germany\"]\n",
        "france_prob = france.shape[0]/data.shape[0]\n",
        "spain_prob = spain.shape[0]/data.shape[0]\n",
        "germany_prob = germany.shape[0]/data.shape[0]\n",
        "print(\"France probability: \", france_prob)\n",
        "print(\"Spain probability: \", spain_prob)\n",
        "print(\"Germany probability: \", germany_prob)"
      ]
    },
    {
      "cell_type": "code",
      "source": [
        "import scipy\n",
        "zvalue = (600 - data[\"CreditScore\"].mean())/data[\"CreditScore\"].std()\n",
        "zprob=scipy.stats.norm.cdf(zvalue)\n",
        "zprob"
      ],
      "metadata": {
        "colab": {
          "base_uri": "https://localhost:8080/"
        },
        "id": "9MRIFsVW055N",
        "outputId": "aa486c96-bb40-401c-9044-dc9a4cab0fda"
      },
      "id": "9MRIFsVW055N",
      "execution_count": null,
      "outputs": [
        {
          "output_type": "execute_result",
          "data": {
            "text/plain": [
              "0.3005622808310629"
            ]
          },
          "metadata": {},
          "execution_count": 6
        }
      ]
    },
    {
      "cell_type": "code",
      "source": [
        "zvalue1 = (700 - data[\"CreditScore\"].mean())/data[\"CreditScore\"].std()\n",
        "zvalue2 = (800 - data[\"CreditScore\"].mean())/data[\"CreditScore\"].std()\n",
        "zprob1 = scipy.stats.norm.cdf(zvalue1)\n",
        "zprob2 = scipy.stats.norm.cdf(zvalue2)\n",
        "zprob2-zprob1"
      ],
      "metadata": {
        "colab": {
          "base_uri": "https://localhost:8080/"
        },
        "id": "N4-LFumI1U7l",
        "outputId": "aa697f99-a5ee-418a-8a2d-7f2f57a0b647"
      },
      "id": "N4-LFumI1U7l",
      "execution_count": null,
      "outputs": [
        {
          "output_type": "execute_result",
          "data": {
            "text/plain": [
              "0.24338502757698566"
            ]
          },
          "metadata": {},
          "execution_count": 7
        }
      ]
    },
    {
      "cell_type": "code",
      "source": [
        "numfrance = france.shape[0]\n",
        "numspain = spain.shape[0]\n",
        "numgermany = germany.shape[0]\n",
        "print(\"Number of customers in france: \", numfrance)\n",
        "print(\"Number of customers in spain: \", numspain)\n",
        "print(\"Number of customers in germany: \", numgermany)\n"
      ],
      "metadata": {
        "colab": {
          "base_uri": "https://localhost:8080/"
        },
        "id": "cLwbLIxz1X6V",
        "outputId": "3aa2bbcb-9e48-4403-991c-4086676d29a4"
      },
      "id": "cLwbLIxz1X6V",
      "execution_count": null,
      "outputs": [
        {
          "output_type": "stream",
          "name": "stdout",
          "text": [
            "Number of customers in france:  5014\n",
            "Number of customers in spain:  2477\n",
            "Number of customers in germany:  2509\n"
          ]
        }
      ]
    },
    {
      "cell_type": "code",
      "source": [
        "data.Geography.value_counts().plot.bar()"
      ],
      "metadata": {
        "colab": {
          "base_uri": "https://localhost:8080/",
          "height": 319
        },
        "id": "g-Qoi1yk1aE9",
        "outputId": "6a26367f-f914-4c3e-caa1-d11693960809"
      },
      "id": "g-Qoi1yk1aE9",
      "execution_count": null,
      "outputs": [
        {
          "output_type": "execute_result",
          "data": {
            "text/plain": [
              "<matplotlib.axes._subplots.AxesSubplot at 0x7fce1f1a4350>"
            ]
          },
          "metadata": {},
          "execution_count": 9
        },
        {
          "output_type": "display_data",
          "data": {
            "text/plain": [
              "<Figure size 432x288 with 1 Axes>"
            ],
            "image/png": "[encoded data removed]"
          },
          "metadata": {
            "needs_background": "light"
          }
        }
      ]
    },
    {
      "cell_type": "code",
      "source": [
        "data.hist(column = \"CreditScore\")"
      ],
      "metadata": {
        "colab": {
          "base_uri": "https://localhost:8080/",
          "height": 317
        },
        "id": "INnRkUdH1czk",
        "outputId": "152d7577-1d60-484d-d809-96558f97e4f5"
      },
      "id": "INnRkUdH1czk",
      "execution_count": null,
      "outputs": [
        {
          "output_type": "execute_result",
          "data": {
            "text/plain": [
              "array([[<matplotlib.axes._subplots.AxesSubplot object at 0x7fce1f11b390>]],\n",
              "      dtype=object)"
            ]
          },
          "metadata": {},
          "execution_count": 10
        },
        {
          "output_type": "display_data",
          "data": {
            "text/plain": [
              "<Figure size 432x288 with 1 Axes>"
            ],
            "image/png": "[encoded data removed]"
          },
          "metadata": {
            "needs_background": "light"
          }
        }
      ]
    },
    {
      "cell_type": "code",
      "source": [
        "data.hist(column = \"Age\")"
      ],
      "metadata": {
        "colab": {
          "base_uri": "https://localhost:8080/",
          "height": 317
        },
        "id": "30zvG2xa1fHQ",
        "outputId": "3420d3ec-c5e4-49f0-84ed-60b260636d01"
      },
      "id": "30zvG2xa1fHQ",
      "execution_count": null,
      "outputs": [
        {
          "output_type": "execute_result",
          "data": {
            "text/plain": [
              "array([[<matplotlib.axes._subplots.AxesSubplot object at 0x7fce1f044ad0>]],\n",
              "      dtype=object)"
            ]
          },
          "metadata": {},
          "execution_count": 11
        },
        {
          "output_type": "display_data",
          "data": {
            "text/plain": [
              "<Figure size 432x288 with 1 Axes>"
            ],
            "image/png": "[encoded data removed]"
          },
          "metadata": {
            "needs_background": "light"
          }
        }
      ]
    },
    {
      "cell_type": "code",
      "source": [
        "data.hist(column = \"Tenure\")"
      ],
      "metadata": {
        "colab": {
          "base_uri": "https://localhost:8080/",
          "height": 317
        },
        "id": "WWqCqIj01gFf",
        "outputId": "44a11546-d03a-4d9b-8072-c2128f5cde03"
      },
      "id": "WWqCqIj01gFf",
      "execution_count": null,
      "outputs": [
        {
          "output_type": "execute_result",
          "data": {
            "text/plain": [
              "array([[<matplotlib.axes._subplots.AxesSubplot object at 0x7fce1efe0e10>]],\n",
              "      dtype=object)"
            ]
          },
          "metadata": {},
          "execution_count": 12
        },
        {
          "output_type": "display_data",
          "data": {
            "text/plain": [
              "<Figure size 432x288 with 1 Axes>"
            ],
            "image/png": "[encoded data removed]"
          },
          "metadata": {
            "needs_background": "light"
          }
        }
      ]
    },
    {
      "cell_type": "code",
      "source": [
        "data.hist(column = \"Balance\")"
      ],
      "metadata": {
        "colab": {
          "base_uri": "https://localhost:8080/",
          "height": 317
        },
        "id": "OHNi14ag1jwk",
        "outputId": "3a9b64a6-4da6-4b47-ee59-a8df4c7140c9"
      },
      "id": "OHNi14ag1jwk",
      "execution_count": null,
      "outputs": [
        {
          "output_type": "execute_result",
          "data": {
            "text/plain": [
              "array([[<matplotlib.axes._subplots.AxesSubplot object at 0x7fce1ef6ae90>]],\n",
              "      dtype=object)"
            ]
          },
          "metadata": {},
          "execution_count": 13
        },
        {
          "output_type": "display_data",
          "data": {
            "text/plain": [
              "<Figure size 432x288 with 1 Axes>"
            ],
            "image/png": "[encoded data removed]"
          },
          "metadata": {
            "needs_background": "light"
          }
        }
      ]
    },
    {
      "cell_type": "code",
      "source": [
        "data.hist(column = \"EstimatedSalary\")"
      ],
      "metadata": {
        "colab": {
          "base_uri": "https://localhost:8080/",
          "height": 317
        },
        "id": "vb55YE_21nHE",
        "outputId": "b3a9a468-348b-4e4f-de60-6cac01280946"
      },
      "id": "vb55YE_21nHE",
      "execution_count": null,
      "outputs": [
        {
          "output_type": "execute_result",
          "data": {
            "text/plain": [
              "array([[<matplotlib.axes._subplots.AxesSubplot object at 0x7fce1ee80750>]],\n",
              "      dtype=object)"
            ]
          },
          "metadata": {},
          "execution_count": 14
        },
        {
          "output_type": "display_data",
          "data": {
            "text/plain": [
              "<Figure size 432x288 with 1 Axes>"
            ],
            "image/png": "[encoded data removed]"
          },
          "metadata": {
            "needs_background": "light"
          }
        }
      ]
    },
    {
      "cell_type": "code",
      "source": [
        "data.hist(figsize = (10, 10))"
      ],
      "metadata": {
        "colab": {
          "base_uri": "https://localhost:8080/",
          "height": 917
        },
        "id": "9iNy6VdX1pDx",
        "outputId": "5e5a2af1-5812-4705-f6cf-e01b169ae372"
      },
      "id": "9iNy6VdX1pDx",
      "execution_count": null,
      "outputs": [
        {
          "output_type": "execute_result",
          "data": {
            "text/plain": [
              "array([[<matplotlib.axes._subplots.AxesSubplot object at 0x7fce1ee63110>,\n",
              "        <matplotlib.axes._subplots.AxesSubplot object at 0x7fce1edc5f50>,\n",
              "        <matplotlib.axes._subplots.AxesSubplot object at 0x7fce1ed88590>,\n",
              "        <matplotlib.axes._subplots.AxesSubplot object at 0x7fce1ed3fb90>],\n",
              "       [<matplotlib.axes._subplots.AxesSubplot object at 0x7fce1ed031d0>,\n",
              "        <matplotlib.axes._subplots.AxesSubplot object at 0x7fce1ed37a90>,\n",
              "        <matplotlib.axes._subplots.AxesSubplot object at 0x7fce1ecedf50>,\n",
              "        <matplotlib.axes._subplots.AxesSubplot object at 0x7fce1ecb0490>],\n",
              "       [<matplotlib.axes._subplots.AxesSubplot object at 0x7fce1ecb04d0>,\n",
              "        <matplotlib.axes._subplots.AxesSubplot object at 0x7fce1ec66ad0>,\n",
              "        <matplotlib.axes._subplots.AxesSubplot object at 0x7fce1ebe1410>,\n",
              "        <matplotlib.axes._subplots.AxesSubplot object at 0x7fce1eb97910>],\n",
              "       [<matplotlib.axes._subplots.AxesSubplot object at 0x7fce1eb4ee10>,\n",
              "        <matplotlib.axes._subplots.AxesSubplot object at 0x7fce1eb12350>,\n",
              "        <matplotlib.axes._subplots.AxesSubplot object at 0x7fce1eac7850>,\n",
              "        <matplotlib.axes._subplots.AxesSubplot object at 0x7fce1ea7ed50>]],\n",
              "      dtype=object)"
            ]
          },
          "metadata": {},
          "execution_count": 15
        },
        {
          "output_type": "display_data",
          "data": {
            "text/plain": [
              "<Figure size 720x720 with 16 Axes>"
            ],
            "image/png": "[encoded data removed]"
          },
          "metadata": {
            "needs_background": "light"
          }
        }
      ]
    },
    {
      "cell_type": "code",
      "source": [
        "tenure_data = data['Tenure']\n",
        "EstimatedSalary_data = data['EstimatedSalary']\n",
        "ax = sns.scatterplot(x = tenure_data, y = EstimatedSalary_data)"
      ],
      "metadata": {
        "colab": {
          "base_uri": "https://localhost:8080/",
          "height": 279
        },
        "id": "cFJ4oQmn15Cb",
        "outputId": "084eac0c-b41e-47fe-8f82-5a2fca1f4ab2"
      },
      "id": "cFJ4oQmn15Cb",
      "execution_count": null,
      "outputs": [
        {
          "output_type": "display_data",
          "data": {
            "text/plain": [
              "<Figure size 432x288 with 1 Axes>"
            ],
            "image/png": "[encoded data removed]"
          },
          "metadata": {
            "needs_background": "light"
          }
        }
      ]
    },
    {
      "cell_type": "code",
      "source": [
        "\n",
        "rel= [data[\"CreditScore\"], data[\"EstimatedSalary\"]]\n",
        "stat, p, dof, expected = chi2_contingency(rel)\n",
        "alpha=0.05\n",
        "print(\"P value is : \",p)\n",
        "if p<=alpha:\n",
        "    print(\"There is an association (reject H0)\")\n",
        "else:\n",
        "    print(\"There is no association (Fail to reject H0)\")\n"
      ],
      "metadata": {
        "colab": {
          "base_uri": "https://localhost:8080/"
        },
        "id": "xHAXy57a17Ql",
        "outputId": "3a48cd53-954b-4d25-b54f-f9ae8f3e9bd0"
      },
      "id": "xHAXy57a17Ql",
      "execution_count": null,
      "outputs": [
        {
          "output_type": "stream",
          "name": "stdout",
          "text": [
            "P value is :  0.0\n",
            "There is an association (reject H0)\n"
          ]
        }
      ]
    },
    {
      "cell_type": "code",
      "source": [
        "\n",
        "data.corr()\n",
        "r =data.corr()\n",
        "plt.figure(figsize=(10,6))\n",
        "heatmap = sns.heatmap(r, vmin=-1, vmax=1, annot=True)\n",
        "plt.title(\"Credit Score\")"
      ],
      "metadata": {
        "colab": {
          "base_uri": "https://localhost:8080/",
          "height": 480
        },
        "id": "kcQ-x4v62AOX",
        "outputId": "2f106822-a5fc-4f92-89fc-bf58ff42652f"
      },
      "id": "kcQ-x4v62AOX",
      "execution_count": null,
      "outputs": [
        {
          "output_type": "execute_result",
          "data": {
            "text/plain": [
              "Text(0.5, 1.0, 'Credit Score')"
            ]
          },
          "metadata": {},
          "execution_count": 19
        },
        {
          "output_type": "display_data",
          "data": {
            "text/plain": [
              "<Figure size 720x432 with 2 Axes>"
            ],
            "image/png": "[encoded data removed]"
          },
          "metadata": {
            "needs_background": "light"
          }
        }
      ]
    },
    {
      "cell_type": "code",
      "source": [
        "from sklearn.linear_model import LinearRegression\n",
        "from sklearn.model_selection import train_test_split\n",
        "from sklearn.metrics import mean_absolute_error\n",
        "from sklearn.metrics import mean_squared_error\n",
        "\n",
        "X, y = data[\"Exited\"], data[\"Age\"]\n",
        "print(\"Initial shape\",X.shape, y.shape)\n",
        "X_train, X_test, y_train, y_test = train_test_split(X, y, test_size=0.2, random_state=1)\n",
        "print(\"Training data : \", X_train.shape,y_train.shape)\n",
        "print(\"Training data : \", X_test.shape,y_test.shape)"
      ],
      "metadata": {
        "colab": {
          "base_uri": "https://localhost:8080/"
        },
        "id": "FLiFFReO2Cpl",
        "outputId": "8c06098a-1477-47f4-f5fe-9a590bf783dc"
      },
      "id": "FLiFFReO2Cpl",
      "execution_count": null,
      "outputs": [
        {
          "output_type": "stream",
          "name": "stdout",
          "text": [
            "Initial shape (10000,) (10000,)\n",
            "Training data :  (8000,) (8000,)\n",
            "Training data :  (2000,) (2000,)\n"
          ]
        }
      ]
    },
    {
      "cell_type": "code",
      "source": [
        "model = LinearRegression()\n",
        "model.fit(np.array(X_train).reshape((-1,1)),y_train)\n",
        "r_sq = model.score(np.array(X_train).reshape((-1,1)),y_train)\n",
        "print(f\"Coefficient of determination : {r_sq}\")\n",
        "print(f\"Intercept : {model.intercept_}\")\n",
        "print(f\"Slope : {model.coef_}\")"
      ],
      "metadata": {
        "colab": {
          "base_uri": "https://localhost:8080/"
        },
        "id": "iq7IRM7t2EUJ",
        "outputId": "1878af37-dcf2-40bc-9643-1723bcaf4aa8"
      },
      "id": "iq7IRM7t2EUJ",
      "execution_count": null,
      "outputs": [
        {
          "output_type": "stream",
          "name": "stdout",
          "text": [
            "Coefficient of determination : 0.07732791472689782\n",
            "Intercept : 37.41925368454061\n",
            "Slope : [7.24042572]\n"
          ]
        }
      ]
    },
    {
      "cell_type": "code",
      "source": [
        "yhat = model.predict(np.array(X_test).reshape((-1,1)))\n",
        "mae = mean_absolute_error(y_test, yhat)\n",
        "print(\" MAE : %.3f\" %mae)\n",
        "mse = mean_squared_error(y_test, yhat)\n",
        "print(\" MSE : %.3f\" %mse)"
      ],
      "metadata": {
        "colab": {
          "base_uri": "https://localhost:8080/"
        },
        "id": "aCZojxtX2GPC",
        "outputId": "6698a341-fad3-4089-ba2a-4d2508fadde2"
      },
      "id": "aCZojxtX2GPC",
      "execution_count": null,
      "outputs": [
        {
          "output_type": "stream",
          "name": "stdout",
          "text": [
            " MAE : 7.451\n",
            " MSE : 100.740\n"
          ]
        }
      ]
    },
    {
      "cell_type": "code",
      "source": [
        "X, y = data[\"Exited\"], data[\"IsActiveMember\"]\n",
        "print(\"Initial shape\",X.shape, y.shape)\n",
        "X_train, X_test, y_train, y_test = train_test_split(X, y, test_size=0.2, random_state=1)\n",
        "print(\"Training data : \", X_train.shape,y_train.shape)\n",
        "print(\"Training data : \", X_test.shape,y_test.shape)\n",
        "\n",
        "model = LinearRegression()\n",
        "model.fit(np.array(X_train).reshape((-1,1)),y_train)\n",
        "r_sq = model.score(np.array(X_train).reshape((-1,1)),y_train)\n",
        "print(f\"Coefficient of determination : {r_sq}\")\n",
        "print(f\"Intercept : {model.intercept_}\")\n",
        "print(f\"Slope : {model.coef_}\")"
      ],
      "metadata": {
        "colab": {
          "base_uri": "https://localhost:8080/"
        },
        "id": "90pyMMYN2KE1",
        "outputId": "0c7e904a-9ffe-4bf4-91bf-2ae11662b999"
      },
      "id": "90pyMMYN2KE1",
      "execution_count": null,
      "outputs": [
        {
          "output_type": "stream",
          "name": "stdout",
          "text": [
            "Initial shape (10000,) (10000,)\n",
            "Training data :  (8000,) (8000,)\n",
            "Training data :  (2000,) (2000,)\n",
            "Coefficient of determination : 0.025482798447271415\n",
            "Intercept : 0.5517403574788334\n",
            "Slope : [-0.19847279]\n"
          ]
        }
      ]
    },
    {
      "cell_type": "code",
      "source": [
        "yhat = model.predict(np.array(X_test).reshape((-1,1)))\n",
        "mae = mean_absolute_error(y_test, yhat)\n",
        "print(\" MAE : %.3f\" %mae)\n",
        "mse = mean_squared_error(y_test, yhat)\n",
        "print(\" MSE : %.3f\" %mse)"
      ],
      "metadata": {
        "colab": {
          "base_uri": "https://localhost:8080/"
        },
        "id": "q6PW_l3Z2NlP",
        "outputId": "af16c521-59c0-4961-c56a-eb66080c667c"
      },
      "id": "q6PW_l3Z2NlP",
      "execution_count": null,
      "outputs": [
        {
          "output_type": "stream",
          "name": "stdout",
          "text": [
            " MAE : 0.488\n",
            " MSE : 0.245\n"
          ]
        }
      ]
    }
  ],
  "metadata": {
    "kernelspec": {
      "display_name": "Python 3 (ipykernel)",
      "language": "python",
      "name": "python3"
    },
    "language_info": {
      "codemirror_mode": {
        "name": "ipython",
        "version": 3
      },
      "file_extension": ".py",
      "mimetype": "text/x-python",
      "name": "python",
      "nbconvert_exporter": "python",
      "pygments_lexer": "ipython3",
      "version": "3.9.12"
    },
    "colab": {
      "provenance": [],
      "toc_visible": true,
      "include_colab_link": true
    }
  },
  "nbformat": 4,
  "nbformat_minor": 5
}